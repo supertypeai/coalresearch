{
 "cells": [
  {
   "cell_type": "code",
   "execution_count": 12,
   "id": "d16c6ff9",
   "metadata": {},
   "outputs": [],
   "source": [
    "import pandas as pd\n",
    "from db import Company, CoalCompanyPerformance\n",
    "import re"
   ]
  },
  {
   "cell_type": "code",
   "execution_count": 2,
   "id": "10867141",
   "metadata": {},
   "outputs": [],
   "source": [
    "minerba_df = pd.read_csv('minerba.csv')"
   ]
  },
  {
   "cell_type": "code",
   "execution_count": 3,
   "id": "b5e1b91a",
   "metadata": {},
   "outputs": [],
   "source": [
    "companies = Company.select()\n",
    "for company in companies:\n",
    "    pass"
   ]
  },
  {
   "cell_type": "code",
   "execution_count": 4,
   "id": "6f3c52ff",
   "metadata": {},
   "outputs": [],
   "source": [
    "ccp = CoalCompanyPerformance.select()\n",
    "for c in ccp:\n",
    "    pass"
   ]
  },
  {
   "cell_type": "code",
   "execution_count": 19,
   "id": "2edbd4e8",
   "metadata": {},
   "outputs": [],
   "source": [
    "minerba_df['nama_usaha_cleaned'] = minerba_df['nama_usaha'].str.lower().str.strip()"
   ]
  },
  {
   "cell_type": "code",
   "execution_count": 32,
   "id": "2581df76",
   "metadata": {},
   "outputs": [
    {
     "data": {
      "text/plain": [
       "Index(['Unnamed: 0', 'objectid', 'pulau', 'pejabat', 'id_prov', 'nama_prov',\n",
       "       'id_kab', 'nama_kab', 'jenis_izin', 'badan_usaha', 'nama_usaha',\n",
       "       'kode_wiup', 'sk_iup', 'tgl_berlaku', 'tgl_akhir', 'kegiatan',\n",
       "       'luas_sk', 'komoditas', 'kode_golongan', 'kode_jnskom', 'cnc',\n",
       "       'generasi', 'kode_wil', 'lokasi', 'geometry', 'nama_usaha_cleaned'],\n",
       "      dtype='object')"
      ]
     },
     "execution_count": 32,
     "metadata": {},
     "output_type": "execute_result"
    }
   ],
   "source": [
    "minerba_df.columns"
   ]
  },
  {
   "cell_type": "code",
   "execution_count": 41,
   "id": "428aaa57",
   "metadata": {},
   "outputs": [],
   "source": [
    "for c in (CoalCompanyPerformance\n",
    "          .select(CoalCompanyPerformance, Company)\n",
    "          .join(Company)):\n",
    "  \n",
    "  company_name = c.company.name\n",
    "  company_name_cleaned = re.sub(r'\\b(PT|Tbk)\\b', '', company_name).lower().strip()\n",
    "\n",
    "  if (company_name_cleaned in minerba_df['nama_usaha_cleaned'].values) and \\\n",
    "      (c.mining_permit is None):\n",
    "      \n",
    "      # Get data from dataframe\n",
    "      mask = minerba_df['nama_usaha_cleaned'] == company_name_cleaned\n",
    "      jenis_izin, luas_sk, geometry = minerba_df[mask][['jenis_izin', 'luas_sk', 'geometry']].values[0]\n",
    "\n",
    "      # Update the record in DB\n",
    "      c.mining_permit = jenis_izin\n",
    "      c.area = luas_sk\n",
    "      c.area_geometry = geometry\n",
    "      # c.save()  # Save changes!\n",
    "\n",
    "      print(f\"Updated {c.id} \\t {c.year} \\t {c.company.name}: permit={jenis_izin}, area={luas_sk}\")"
   ]
  },
  {
   "cell_type": "code",
   "execution_count": null,
   "id": "eb0204fd",
   "metadata": {},
   "outputs": [],
   "source": []
  }
 ],
 "metadata": {
  "kernelspec": {
   "display_name": ".venv",
   "language": "python",
   "name": "python3"
  },
  "language_info": {
   "codemirror_mode": {
    "name": "ipython",
    "version": 3
   },
   "file_extension": ".py",
   "mimetype": "text/x-python",
   "name": "python",
   "nbconvert_exporter": "python",
   "pygments_lexer": "ipython3",
   "version": "3.9.20"
  }
 },
 "nbformat": 4,
 "nbformat_minor": 5
}
